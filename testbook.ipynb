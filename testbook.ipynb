{
 "cells": [
  {
   "cell_type": "code",
   "execution_count": 1,
   "id": "dd705966",
   "metadata": {},
   "outputs": [
    {
     "name": "stdout",
     "output_type": "stream",
     "text": [
      "Created TAP+ (v20200428.1) - Connection:\n",
      "\tHost: gea.esac.esa.int\n",
      "\tUse HTTPS: True\n",
      "\tPort: 443\n",
      "\tSSL Port: 443\n",
      "Created TAP+ (v20200428.1) - Connection:\n",
      "\tHost: gea.esac.esa.int\n",
      "\tUse HTTPS: True\n",
      "\tPort: 443\n",
      "\tSSL Port: 443\n"
     ]
    }
   ],
   "source": [
    "from astroquery.gaia import Gaia\n",
    "from astropy.coordinates import SkyCoord\n",
    "import astropy.units as u"
   ]
  },
  {
   "cell_type": "code",
   "execution_count": 2,
   "id": "11fd0afb",
   "metadata": {},
   "outputs": [],
   "source": [
    "Gaia.MAIN_GAIA_TABLE = \"gaiaedr3.gaia_source\""
   ]
  },
  {
   "cell_type": "code",
   "execution_count": 5,
   "id": "9b933405",
   "metadata": {},
   "outputs": [
    {
     "name": "stdout",
     "output_type": "stream",
     "text": [
      "INFO: Query finished. [astroquery.utils.tap.core]\n",
      "         dist             solution_id     ...       ecl_lat      \n",
      "                                          ...         deg        \n",
      "--------------------- ------------------- ... -------------------\n",
      "0.0026043272506403484 1636042515805110273 ... -36.779153025899156\n",
      " 0.003361667853091105 1636042515805110273 ...  -36.77612063074377\n",
      " 0.003849880182859702 1636042515805110273 ... -36.773896878533364\n",
      "  0.00442260392058112 1636042515805110273 ...  -36.77354465982053\n",
      " 0.004545515007406694 1636042515805110273 ...  -36.77264685813643\n",
      " 0.005613919982422015 1636042515805110273 ...  -36.78149005047698\n",
      "                  ...                 ... ...                 ...\n",
      " 0.050384299115224865 1636042515805110273 ... -36.729882129401496\n",
      "  0.05082928858540286 1636042515805110273 ... -36.822973249861306\n",
      "  0.05086150281834726 1636042515805110273 ...    -36.823023787729\n",
      "   0.0510370672420303 1636042515805110273 ...  -36.72859292900802\n",
      "  0.05121116044833565 1636042515805110273 ...  -36.82511983246706\n",
      " 0.051956798257050296 1636042515805110273 ...  -36.72582124934863\n",
      "  0.05321040019669602 1636042515805110273 ...  -36.82660332696417\n",
      "Length = 184 rows\n"
     ]
    }
   ],
   "source": [
    "coord = SkyCoord(ra=280, dec=-60, unit=(u.degree, u.degree), frame='icrs')\n",
    "width = u.Quantity(0.1, u.deg)\n",
    "height = u.Quantity(0.1, u.deg)\n",
    "Gaia.ROW_LIMIT = -1\n",
    "r = Gaia.query_object_async(coordinate=coord, width=width, height=height)\n",
    "r.pprint()"
   ]
  },
  {
   "cell_type": "code",
   "execution_count": 6,
   "id": "77edef1f",
   "metadata": {},
   "outputs": [
    {
     "name": "stdout",
     "output_type": "stream",
     "text": [
      "         designation         \n",
      "-----------------------------\n",
      "Gaia EDR3 6636090334814214528\n",
      "Gaia EDR3 6636090339112400000\n",
      "Gaia EDR3 6636090339113063296\n",
      "Gaia EDR3 6636090339112213760\n",
      "Gaia EDR3 6636090334814217600\n",
      "Gaia EDR3 6636089583198816640\n",
      "Gaia EDR3 6636090334814218752\n",
      "                          ...\n",
      "Gaia EDR3 6636090644051890048\n",
      "Gaia EDR3 6636065836320737408\n",
      "Gaia EDR3 6633086851303261824\n",
      "Gaia EDR3 6636070165653491328\n",
      "Gaia EDR3 6636065840618481024\n",
      "Gaia EDR3 6636093637644158592\n",
      "Gaia EDR3 6633086847005369088\n",
      "Length = 184 rows\n"
     ]
    }
   ],
   "source": [
    "print(r['designation'])"
   ]
  },
  {
   "cell_type": "code",
   "execution_count": 8,
   "id": "edb7237c",
   "metadata": {},
   "outputs": [
    {
     "name": "stdout",
     "output_type": "stream",
     "text": [
      "INFO: Query finished. [astroquery.utils.tap.core]\n",
      "         dist             solution_id     ...       ecl_lat      \n",
      "                                          ...         deg        \n",
      "--------------------- ------------------- ... -------------------\n",
      " 0.001463202966199969 1636042515805110273 ... -1.1997896299240813\n",
      "0.0019798227411169248 1636042515805110273 ...  -1.202658252821135\n",
      " 0.002093357469796551 1636042515805110273 ... -1.2027179077981904\n",
      "0.0033246463716315277 1636042515805110273 ...  -1.198684897774438\n",
      " 0.003435422075919361 1636042515805110273 ... -1.2007899595056324\n",
      " 0.003850636021547118 1636042515805110273 ... -1.2004623282962164\n",
      "                  ...                 ... ...                 ...\n",
      "  0.06347989956308694 1636042515805110273 ... -1.1527547161017855\n",
      "  0.06364804829631857 1636042515805110273 ... -1.1532764571780991\n",
      "  0.06367708257644414 1636042515805110273 ...  -1.154938992938725\n",
      "  0.06539681616633834 1636042515805110273 ... -1.2505111585009085\n",
      "  0.06588409579282276 1636042515805110273 ... -1.1514737885533244\n",
      "  0.06616956373996645 1636042515805110273 ... -1.1509417279515772\n",
      "  0.06647080892743065 1636042515805110273 ... -1.2500715587825082\n",
      "Length = 995 rows\n"
     ]
    }
   ],
   "source": [
    "coord = SkyCoord(l=5, b=0, unit=(u.degree, u.degree), frame='galactic')\n",
    "width = u.Quantity(0.1, u.deg)\n",
    "height = u.Quantity(0.1, u.deg)\n",
    "Gaia.ROW_LIMIT = -1\n",
    "r = Gaia.query_object_async(coordinate=coord, width=width, height=height)\n",
    "r.pprint()"
   ]
  },
  {
   "cell_type": "code",
   "execution_count": 9,
   "id": "caf88749",
   "metadata": {},
   "outputs": [
    {
     "data": {
      "text/plain": [
       "995"
      ]
     },
     "execution_count": 9,
     "metadata": {},
     "output_type": "execute_result"
    }
   ],
   "source": [
    "len(r)"
   ]
  },
  {
   "cell_type": "code",
   "execution_count": 11,
   "id": "1bccb2ee",
   "metadata": {},
   "outputs": [
    {
     "data": {
      "text/html": [
       "<i>Row index=0</i>\n",
       "<table id=\"table140250864545936\">\n",
       "<thead><tr><th>dist</th><th>solution_id</th><th>designation</th><th>source_id</th><th>random_index</th><th>ref_epoch</th><th>ra</th><th>ra_error</th><th>dec</th><th>dec_error</th><th>parallax</th><th>parallax_error</th><th>parallax_over_error</th><th>pm</th><th>pmra</th><th>pmra_error</th><th>pmdec</th><th>pmdec_error</th><th>ra_dec_corr</th><th>ra_parallax_corr</th><th>ra_pmra_corr</th><th>ra_pmdec_corr</th><th>dec_parallax_corr</th><th>dec_pmra_corr</th><th>dec_pmdec_corr</th><th>parallax_pmra_corr</th><th>parallax_pmdec_corr</th><th>pmra_pmdec_corr</th><th>astrometric_n_obs_al</th><th>astrometric_n_obs_ac</th><th>astrometric_n_good_obs_al</th><th>astrometric_n_bad_obs_al</th><th>astrometric_gof_al</th><th>astrometric_chi2_al</th><th>astrometric_excess_noise</th><th>astrometric_excess_noise_sig</th><th>astrometric_params_solved</th><th>astrometric_primary_flag</th><th>nu_eff_used_in_astrometry</th><th>pseudocolour</th><th>pseudocolour_error</th><th>ra_pseudocolour_corr</th><th>dec_pseudocolour_corr</th><th>parallax_pseudocolour_corr</th><th>pmra_pseudocolour_corr</th><th>pmdec_pseudocolour_corr</th><th>astrometric_matched_transits</th><th>visibility_periods_used</th><th>astrometric_sigma5d_max</th><th>matched_transits</th><th>new_matched_transits</th><th>matched_transits_removed</th><th>ipd_gof_harmonic_amplitude</th><th>ipd_gof_harmonic_phase</th><th>ipd_frac_multi_peak</th><th>ipd_frac_odd_win</th><th>ruwe</th><th>scan_direction_strength_k1</th><th>scan_direction_strength_k2</th><th>scan_direction_strength_k3</th><th>scan_direction_strength_k4</th><th>scan_direction_mean_k1</th><th>scan_direction_mean_k2</th><th>scan_direction_mean_k3</th><th>scan_direction_mean_k4</th><th>duplicated_source</th><th>phot_g_n_obs</th><th>phot_g_mean_flux</th><th>phot_g_mean_flux_error</th><th>phot_g_mean_flux_over_error</th><th>phot_g_mean_mag</th><th>phot_bp_n_obs</th><th>phot_bp_mean_flux</th><th>phot_bp_mean_flux_error</th><th>phot_bp_mean_flux_over_error</th><th>phot_bp_mean_mag</th><th>phot_rp_n_obs</th><th>phot_rp_mean_flux</th><th>phot_rp_mean_flux_error</th><th>phot_rp_mean_flux_over_error</th><th>phot_rp_mean_mag</th><th>phot_bp_n_contaminated_transits</th><th>phot_bp_n_blended_transits</th><th>phot_rp_n_contaminated_transits</th><th>phot_rp_n_blended_transits</th><th>phot_proc_mode</th><th>phot_bp_rp_excess_factor</th><th>bp_rp</th><th>bp_g</th><th>g_rp</th><th>dr2_radial_velocity</th><th>dr2_radial_velocity_error</th><th>dr2_rv_nb_transits</th><th>dr2_rv_template_teff</th><th>dr2_rv_template_logg</th><th>dr2_rv_template_fe_h</th><th>l</th><th>b</th><th>ecl_lon</th><th>ecl_lat</th></tr></thead>\n",
       "<thead><tr><th></th><th></th><th></th><th></th><th></th><th>yr</th><th>deg</th><th>mas</th><th>deg</th><th>mas</th><th>mas</th><th>mas</th><th></th><th>mas / yr</th><th>mas / yr</th><th>mas / yr</th><th>mas / yr</th><th>mas / yr</th><th></th><th></th><th></th><th></th><th></th><th></th><th></th><th></th><th></th><th></th><th></th><th></th><th></th><th></th><th></th><th></th><th>mas</th><th></th><th></th><th></th><th>1 / um</th><th>1 / um</th><th>1 / um</th><th></th><th></th><th></th><th></th><th></th><th></th><th></th><th>mas</th><th></th><th></th><th></th><th></th><th>deg</th><th></th><th></th><th></th><th></th><th></th><th></th><th></th><th>deg</th><th>deg</th><th>deg</th><th>deg</th><th></th><th></th><th>electron / s</th><th>electron / s</th><th></th><th>mag</th><th></th><th>electron / s</th><th>electron / s</th><th></th><th>mag</th><th></th><th>electron / s</th><th>electron / s</th><th></th><th>mag</th><th></th><th></th><th></th><th></th><th></th><th></th><th>mag</th><th>mag</th><th>mag</th><th>km / s</th><th>km / s</th><th></th><th>K</th><th>log(cm.s**-2)</th><th>dex</th><th>deg</th><th>deg</th><th>deg</th><th>deg</th></tr></thead>\n",
       "<thead><tr><th>float64</th><th>int64</th><th>object</th><th>int64</th><th>int64</th><th>float64</th><th>float64</th><th>float32</th><th>float64</th><th>float32</th><th>float64</th><th>float32</th><th>float32</th><th>float32</th><th>float64</th><th>float32</th><th>float64</th><th>float32</th><th>float32</th><th>float32</th><th>float32</th><th>float32</th><th>float32</th><th>float32</th><th>float32</th><th>float32</th><th>float32</th><th>float32</th><th>int16</th><th>int16</th><th>int16</th><th>int16</th><th>float32</th><th>float32</th><th>float32</th><th>float32</th><th>int16</th><th>bool</th><th>float32</th><th>float32</th><th>float32</th><th>float32</th><th>float32</th><th>float32</th><th>float32</th><th>float32</th><th>int16</th><th>int16</th><th>float32</th><th>int16</th><th>int16</th><th>int16</th><th>float32</th><th>float32</th><th>int16</th><th>int16</th><th>float32</th><th>float32</th><th>float32</th><th>float32</th><th>float32</th><th>float32</th><th>float32</th><th>float32</th><th>float32</th><th>bool</th><th>int16</th><th>float64</th><th>float32</th><th>float32</th><th>float32</th><th>int16</th><th>float64</th><th>float32</th><th>float32</th><th>float32</th><th>int16</th><th>float64</th><th>float32</th><th>float32</th><th>float32</th><th>int16</th><th>int16</th><th>int16</th><th>int16</th><th>int16</th><th>float32</th><th>float32</th><th>float32</th><th>float32</th><th>float32</th><th>float32</th><th>int16</th><th>float32</th><th>float32</th><th>float32</th><th>float64</th><th>float64</th><th>float64</th><th>float64</th></tr></thead>\n",
       "<tr><td>0.001463202966199969</td><td>1636042515805110273</td><td>Gaia EDR3 4067536206324502784</td><td>4067536206324502784</td><td>1023583795</td><td>2016.0</td><td>269.26980009088265</td><td>9.403552</td><td>-24.637387834544352</td><td>7.910102</td><td>--</td><td>--</td><td>--</td><td>--</td><td>--</td><td>--</td><td>--</td><td>--</td><td>0.9909079</td><td>--</td><td>--</td><td>--</td><td>--</td><td>--</td><td>--</td><td>--</td><td>--</td><td>--</td><td>90</td><td>0</td><td>90</td><td>0</td><td>2.4429853</td><td>120.15542</td><td>2.4998446</td><td>1.2193959</td><td>3</td><td>False</td><td>--</td><td>--</td><td>--</td><td>--</td><td>--</td><td>--</td><td>--</td><td>--</td><td>10</td><td>7</td><td>24.361366</td><td>10</td><td>3</td><td>0</td><td>0.4479837</td><td>149.06447</td><td>0</td><td>0</td><td>--</td><td>0.39474225</td><td>0.96896523</td><td>0.35508838</td><td>0.88291204</td><td>-36.80307</td><td>-37.086933</td><td>-37.245323</td><td>-37.399612</td><td>False</td><td>88</td><td>83.83028865153291</td><td>1.1464461</td><td>73.12187</td><td>20.878864</td><td>6</td><td>18.062951847403507</td><td>4.5706553</td><td>3.951939</td><td>22.196571</td><td>9</td><td>156.57179944748665</td><td>8.816248</td><td>17.75946</td><td>19.261112</td><td>0</td><td>0</td><td>0</td><td>0</td><td>0</td><td>2.083194</td><td>2.9354591</td><td>1.3177071</td><td>1.6177521</td><td>--</td><td>--</td><td>0</td><td>--</td><td>--</td><td>--</td><td>5.001407306472317</td><td>-0.0004078590540526151</td><td>269.3361459345061</td><td>-1.1997896299240813</td></tr>\n",
       "</table>"
      ],
      "text/plain": [
       "<Row index=0>\n",
       "        dist             solution_id              designation               source_id      random_index ref_epoch         ra         ra_error         dec         dec_error parallax parallax_error parallax_over_error    pm      pmra   pmra_error  pmdec   pmdec_error ra_dec_corr ra_parallax_corr ra_pmra_corr ra_pmdec_corr dec_parallax_corr dec_pmra_corr dec_pmdec_corr parallax_pmra_corr parallax_pmdec_corr pmra_pmdec_corr astrometric_n_obs_al astrometric_n_obs_ac astrometric_n_good_obs_al astrometric_n_bad_obs_al astrometric_gof_al astrometric_chi2_al astrometric_excess_noise astrometric_excess_noise_sig astrometric_params_solved astrometric_primary_flag nu_eff_used_in_astrometry pseudocolour pseudocolour_error ra_pseudocolour_corr dec_pseudocolour_corr parallax_pseudocolour_corr pmra_pseudocolour_corr pmdec_pseudocolour_corr astrometric_matched_transits visibility_periods_used astrometric_sigma5d_max matched_transits new_matched_transits matched_transits_removed ipd_gof_harmonic_amplitude ipd_gof_harmonic_phase ipd_frac_multi_peak ipd_frac_odd_win   ruwe  scan_direction_strength_k1 scan_direction_strength_k2 scan_direction_strength_k3 scan_direction_strength_k4 scan_direction_mean_k1 scan_direction_mean_k2 scan_direction_mean_k3 scan_direction_mean_k4 duplicated_source phot_g_n_obs  phot_g_mean_flux phot_g_mean_flux_error phot_g_mean_flux_over_error phot_g_mean_mag phot_bp_n_obs phot_bp_mean_flux  phot_bp_mean_flux_error phot_bp_mean_flux_over_error phot_bp_mean_mag phot_rp_n_obs phot_rp_mean_flux  phot_rp_mean_flux_error phot_rp_mean_flux_over_error phot_rp_mean_mag phot_bp_n_contaminated_transits phot_bp_n_blended_transits phot_rp_n_contaminated_transits phot_rp_n_blended_transits phot_proc_mode phot_bp_rp_excess_factor   bp_rp      bp_g      g_rp   dr2_radial_velocity dr2_radial_velocity_error dr2_rv_nb_transits dr2_rv_template_teff dr2_rv_template_logg dr2_rv_template_fe_h         l                   b                 ecl_lon            ecl_lat      \n",
       "                                                                                                            yr           deg           mas            deg            mas      mas         mas                           mas / yr mas / yr  mas / yr  mas / yr   mas / yr                                                                                                                                                                                                                                                                                                              mas                                                                                                      1 / um             1 / um          1 / um                                                                                                                                                                                           mas                                                                                                              deg                                                                                                                                                                             deg                    deg                    deg                    deg                                             electron / s        electron / s                                        mag                        electron / s          electron / s                                         mag                         electron / s          electron / s                                         mag                                                                                                                                                                         mag       mag       mag           km / s                 km / s                                      K              log(cm.s**-2)             dex                 deg                 deg                  deg                deg        \n",
       "      float64               int64                    object                   int64           int64      float64       float64       float32        float64        float32  float64     float32           float32       float32  float64   float32   float64    float32     float32       float32        float32       float32         float32         float32       float32          float32             float32           float32            int16                int16                   int16                    int16                float32             float32               float32                    float32                      int16                     bool                    float32            float32         float32             float32               float32                 float32                  float32                 float32                    int16                      int16                  float32              int16              int16                  int16                    float32                  float32                int16             int16       float32          float32                    float32                    float32                    float32                  float32                float32                float32                float32                bool          int16          float64             float32                   float32               float32         int16          float64               float32                   float32                float32          int16          float64               float32                   float32                float32                   int16                        int16                         int16                        int16                int16              float32           float32   float32   float32        float32                float32                int16              float32              float32              float32             float64             float64              float64            float64      \n",
       "-------------------- ------------------- ----------------------------- ------------------- ------------ --------- ------------------ -------- ------------------- --------- -------- -------------- ------------------- -------- -------- ---------- -------- ----------- ----------- ---------------- ------------ ------------- ----------------- ------------- -------------- ------------------ ------------------- --------------- -------------------- -------------------- ------------------------- ------------------------ ------------------ ------------------- ------------------------ ---------------------------- ------------------------- ------------------------ ------------------------- ------------ ------------------ -------------------- --------------------- -------------------------- ---------------------- ----------------------- ---------------------------- ----------------------- ----------------------- ---------------- -------------------- ------------------------ -------------------------- ---------------------- ------------------- ---------------- ------- -------------------------- -------------------------- -------------------------- -------------------------- ---------------------- ---------------------- ---------------------- ---------------------- ----------------- ------------ ----------------- ---------------------- --------------------------- --------------- ------------- ------------------ ----------------------- ---------------------------- ---------------- ------------- ------------------ ----------------------- ---------------------------- ---------------- ------------------------------- -------------------------- ------------------------------- -------------------------- -------------- ------------------------ --------- --------- --------- ------------------- ------------------------- ------------------ -------------------- -------------------- -------------------- ----------------- ---------------------- ----------------- -------------------\n",
       "0.001463202966199969 1636042515805110273 Gaia EDR3 4067536206324502784 4067536206324502784   1023583795    2016.0 269.26980009088265 9.403552 -24.637387834544352  7.910102       --             --                  --       --       --         --       --          --   0.9909079               --           --            --                --            --             --                 --                  --              --                   90                    0                        90                        0          2.4429853           120.15542                2.4998446                    1.2193959                         3                    False                        --           --                 --                   --                    --                         --                     --                      --                           10                       7               24.361366               10                    3                        0                  0.4479837              149.06447                   0                0      --                 0.39474225                 0.96896523                 0.35508838                 0.88291204              -36.80307             -37.086933             -37.245323             -37.399612             False           88 83.83028865153291              1.1464461                    73.12187       20.878864             6 18.062951847403507               4.5706553                     3.951939        22.196571             9 156.57179944748665                8.816248                     17.75946        19.261112                               0                          0                               0                          0              0                 2.083194 2.9354591 1.3177071 1.6177521                  --                        --                  0                   --                   --                   -- 5.001407306472317 -0.0004078590540526151 269.3361459345061 -1.1997896299240813"
      ]
     },
     "execution_count": 11,
     "metadata": {},
     "output_type": "execute_result"
    }
   ],
   "source": [
    "r[0]"
   ]
  },
  {
   "cell_type": "code",
   "execution_count": 12,
   "id": "9d00458c",
   "metadata": {},
   "outputs": [
    {
     "data": {
      "text/html": [
       "&lt;MaskedColumn name=&apos;ra&apos; dtype=&apos;float64&apos; unit=&apos;deg&apos; description=&apos;Right ascension&apos; length=995&gt;\n",
       "<table>\n",
       "<tr><td>269.26980009088265</td></tr>\n",
       "<tr><td>269.2678563275977</td></tr>\n",
       "<tr><td>269.2695646093117</td></tr>\n",
       "<tr><td>269.2658323562265</td></tr>\n",
       "<tr><td>269.26485737099875</td></tr>\n",
       "<tr><td>269.27285795533646</td></tr>\n",
       "<tr><td>269.2718614216218</td></tr>\n",
       "<tr><td>269.27264925218725</td></tr>\n",
       "<tr><td>269.26568905758955</td></tr>\n",
       "<tr><td>...</td></tr>\n",
       "<tr><td>269.31203035594643</td></tr>\n",
       "<tr><td>269.2232861030292</td></tr>\n",
       "<tr><td>269.3154562895108</td></tr>\n",
       "<tr><td>269.2203171753116</td></tr>\n",
       "<tr><td>269.221585549566</td></tr>\n",
       "<tr><td>269.22088799506685</td></tr>\n",
       "<tr><td>269.3167491085566</td></tr>\n",
       "<tr><td>269.31747336538456</td></tr>\n",
       "</table>"
      ],
      "text/plain": [
       "<MaskedColumn name='ra' dtype='float64' unit='deg' description='Right ascension' length=995>\n",
       "269.26980009088265\n",
       " 269.2678563275977\n",
       " 269.2695646093117\n",
       " 269.2658323562265\n",
       "269.26485737099875\n",
       "269.27285795533646\n",
       " 269.2718614216218\n",
       "269.27264925218725\n",
       "269.26568905758955\n",
       "               ...\n",
       "269.31203035594643\n",
       " 269.2232861030292\n",
       " 269.3154562895108\n",
       " 269.2203171753116\n",
       "  269.221585549566\n",
       "269.22088799506685\n",
       " 269.3167491085566\n",
       "269.31747336538456"
      ]
     },
     "execution_count": 12,
     "metadata": {},
     "output_type": "execute_result"
    }
   ],
   "source": [
    "r['ra']"
   ]
  },
  {
   "cell_type": "code",
   "execution_count": 24,
   "id": "53af4e75",
   "metadata": {},
   "outputs": [
    {
     "data": {
      "image/png": "[encoded data removed]",
      "text/plain": [
       "<Figure size 432x288 with 1 Axes>"
      ]
     },
     "metadata": {
      "needs_background": "light"
     },
     "output_type": "display_data"
    }
   ],
   "source": [
    "ralist = r['ra'].tolist()\n",
    "declist = r['dec'].tolist()\n",
    "\n",
    "import matplotlib.pyplot as plt\n",
    "#plt.(ralist,declist,'ro',markersize = 0.5,alpha = 0.5)\n",
    "plt.plot(ralist,declist, 'ro',markersize = 1,alpha =1)\n",
    "plt.title(\"ra and dec\")\n",
    "plt.show()"
   ]
  },
  {
   "cell_type": "code",
   "execution_count": 25,
   "id": "71248465",
   "metadata": {},
   "outputs": [
    {
     "data": {
      "image/png": "[encoded data removed]",
      "text/plain": [
       "<Figure size 432x288 with 1 Axes>"
      ]
     },
     "metadata": {
      "needs_background": "light"
     },
     "output_type": "display_data"
    }
   ],
   "source": [
    "pmralist = r['pmra'].tolist()\n",
    "pmdeclist = r['pmdec'].tolist()\n",
    "\n",
    "#import matplotlib.pyplot as plt\n",
    "#plt.(ralist,declist,'ro',markersize = 0.5,alpha = 0.5)\n",
    "plt.plot(pmralist,pmdeclist, 'ro',markersize = 1,alpha =1)\n",
    "plt.title(\"pmra/pmdec\")\n",
    "plt.show()"
   ]
  },
  {
   "cell_type": "code",
   "execution_count": 16,
   "id": "1c3af62f",
   "metadata": {},
   "outputs": [],
   "source": [
    "## now to write a function that can create pmra/pmdec and rest of the plots"
   ]
  },
  {
   "cell_type": "code",
   "execution_count": 27,
   "id": "5409d476",
   "metadata": {},
   "outputs": [],
   "source": [
    "import seaborn"
   ]
  },
  {
   "cell_type": "code",
   "execution_count": 29,
   "id": "ab565aa7",
   "metadata": {},
   "outputs": [],
   "source": [
    "import pandas as pd\n",
    "df = pd.DataFrame(list(zip(ralist, declist)),\n",
    "               columns =['ra', 'dec'])"
   ]
  },
  {
   "cell_type": "code",
   "execution_count": 33,
   "id": "e0579a54",
   "metadata": {},
   "outputs": [
    {
     "data": {
      "text/plain": [
       "<seaborn.axisgrid.JointGrid at 0x7f8e8cf86490>"
      ]
     },
     "execution_count": 33,
     "metadata": {},
     "output_type": "execute_result"
    },
    {
     "data": {
      "image/png": "[encoded data removed]",
      "text/plain": [
       "<Figure size 432x432 with 3 Axes>"
      ]
     },
     "metadata": {
      "needs_background": "light"
     },
     "output_type": "display_data"
    }
   ],
   "source": [
    "seaborn.jointplot(x='ra',y='dec',data = df,s = 2)"
   ]
  },
  {
   "cell_type": "code",
   "execution_count": 35,
   "id": "dd655e75",
   "metadata": {},
   "outputs": [],
   "source": [
    "df = pd.DataFrame(list(zip(ralist,declist,pmralist,pmdeclist)),\n",
    "                 columns = ['ra','dec','pmra','pmdec'])"
   ]
  },
  {
   "cell_type": "code",
   "execution_count": 36,
   "id": "914dc05f",
   "metadata": {},
   "outputs": [
    {
     "data": {
      "text/plain": [
       "<seaborn.axisgrid.JointGrid at 0x7f8e8ce5cf10>"
      ]
     },
     "execution_count": 36,
     "metadata": {},
     "output_type": "execute_result"
    },
    {
     "data": {
      "image/png": "[encoded data removed]",
      "text/plain": [
       "<Figure size 432x432 with 3 Axes>"
      ]
     },
     "metadata": {
      "needs_background": "light"
     },
     "output_type": "display_data"
    }
   ],
   "source": [
    "seaborn.jointplot(x='pmra',y='pmdec',data = df,s = 1)"
   ]
  },
  {
   "cell_type": "markdown",
   "id": "c0980357",
   "metadata": {},
   "source": [
    "# Another way to download data using jobs"
   ]
  },
  {
   "cell_type": "code",
   "execution_count": 37,
   "id": "93fd24e2",
   "metadata": {},
   "outputs": [],
   "source": [
    "#program to donwload complete data using cone search kind of method\n",
    "#will extrapolate to box using adql query"
   ]
  },
  {
   "cell_type": "code",
   "execution_count": 39,
   "id": "e211ed16",
   "metadata": {},
   "outputs": [],
   "source": [
    "#make all the similar imports\n",
    "l = 5\n",
    "b = 0.5\n",
    "\n",
    "coord = SkyCoord(l=l, b=b, unit=(u.degree,u.degree),frame='galactic')"
   ]
  },
  {
   "cell_type": "code",
   "execution_count": 43,
   "id": "25a64fad",
   "metadata": {},
   "outputs": [],
   "source": [
    "#conversion into equatorial coordinates\n",
    "coord = coord.icrs"
   ]
  },
  {
   "cell_type": "code",
   "execution_count": 47,
   "id": "271f1d3a",
   "metadata": {},
   "outputs": [],
   "source": [
    "raValue = 132\n",
    "decValue = 11.8\n",
    "coord = SkyCoord(ra=raValue, dec=decValue, unit=(u.hour, u.degree), frame='icrs')"
   ]
  },
  {
   "cell_type": "code",
   "execution_count": 48,
   "id": "c786e90c",
   "metadata": {},
   "outputs": [
    {
     "ename": "IndexError",
     "evalue": "invalid index to scalar variable.",
     "output_type": "error",
     "traceback": [
      "\u001b[0;31m---------------------------------------------------------------------------\u001b[0m",
      "\u001b[0;31mIndexError\u001b[0m                                Traceback (most recent call last)",
      "\u001b[0;32m/tmp/ipykernel_3525/4086889602.py\u001b[0m in \u001b[0;36m<module>\u001b[0;34m\u001b[0m\n\u001b[1;32m      2\u001b[0m query = \"\"\"SELECT TOP 1000 * FROM gaiadr2.gaia_source \n\u001b[1;32m      3\u001b[0m            WHERE CONTAINS(POINT('ICRS',gaiadr2.gaia_source.ra,gaiadr2.gaia_source.dec), \n\u001b[0;32m----> 4\u001b[0;31m            CIRCLE('ICRS',{ra},{dec},0.2777777777777778))=1 ORDER BY random_index\"\"\".format(ra=str(coord.ra.deg[0]),dec=str(coord.dec.deg[0]))\n\u001b[0m",
      "\u001b[0;31mIndexError\u001b[0m: invalid index to scalar variable."
     ]
    }
   ],
   "source": [
    "#now this is the adql query\n",
    "query = \"\"\"SELECT TOP 1000 * FROM gaiadr2.gaia_source \n",
    "           WHERE CONTAINS(POINT('ICRS',gaiadr2.gaia_source.ra,gaiadr2.gaia_source.dec), \n",
    "           CIRCLE('ICRS',{ra},{dec},0.2777777777777778))=1 ORDER BY random_index\"\"\".format(ra=str(coord.ra.deg[0]),dec=str(coord.dec.deg[0]))\n"
   ]
  },
  {
   "cell_type": "code",
   "execution_count": null,
   "id": "7d79dd8a",
   "metadata": {},
   "outputs": [],
   "source": []
  }
 ],
 "metadata": {
  "kernelspec": {
   "display_name": "Python 3 (ipykernel)",
   "language": "python",
   "name": "python3"
  },
  "language_info": {
   "codemirror_mode": {
    "name": "ipython",
    "version": 3
   },
   "file_extension": ".py",
   "mimetype": "text/x-python",
   "name": "python",
   "nbconvert_exporter": "python",
   "pygments_lexer": "ipython3",
   "version": "3.7.5"
  }
 },
 "nbformat": 4,
 "nbformat_minor": 5
}
