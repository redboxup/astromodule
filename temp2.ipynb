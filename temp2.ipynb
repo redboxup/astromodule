{
 "cells": [
  {
   "cell_type": "code",
   "execution_count": 1,
   "id": "ac5402cf",
   "metadata": {},
   "outputs": [
    {
     "name": "stdout",
     "output_type": "stream",
     "text": [
      "Created TAP+ (v20200428.1) - Connection:\n",
      "\tHost: gea.esac.esa.int\n",
      "\tUse HTTPS: True\n",
      "\tPort: 443\n",
      "\tSSL Port: 443\n",
      "Created TAP+ (v20200428.1) - Connection:\n",
      "\tHost: gea.esac.esa.int\n",
      "\tUse HTTPS: True\n",
      "\tPort: 443\n",
      "\tSSL Port: 443\n"
     ]
    }
   ],
   "source": [
    "from astroquery.simbad import Simbad\n",
    "import astropy.units as u\n",
    "from astropy.coordinates import SkyCoord\n",
    "from astroquery.gaia import Gaia\n",
    "import matplotlib.pyplot as plt\n"
   ]
  },
  {
   "cell_type": "code",
   "execution_count": 2,
   "id": "33d3e306",
   "metadata": {},
   "outputs": [],
   "source": [
    "#result_table = Simbad.query_object(\"Gaia DR2 4687500098271761792\")\n",
    "#raValue = result_table['RA']\n",
    "#decValue = result_table['DEC']\n",
    "raValue = [132.825]\n",
    "decValue = [11.8]"
   ]
  },
  {
   "cell_type": "code",
   "execution_count": 3,
   "id": "347d2aca",
   "metadata": {},
   "outputs": [
    {
     "name": "stdout",
     "output_type": "stream",
     "text": [
      "INFO: Query finished. [astroquery.utils.tap.core]\n"
     ]
    }
   ],
   "source": [
    "coord = SkyCoord(ra=raValue, dec=decValue, unit=(u.degree, u.degree), frame='icrs')\n",
    "\n",
    "query = \"\"\"SELECT TOP 1000 ra,dec,pmra,pmdec FROM gaiaedr3.gaia_source \n",
    "           WHERE CONTAINS(POINT('ICRS',gaiaedr3.gaia_source.ra,gaiaedr3.gaia_source.dec), \n",
    "           CIRCLE('ICRS',{ra},{dec},0.2777777777777778))=1 ORDER BY random_index\"\"\".format(ra=str(coord.ra.deg[0]),dec=str(coord.dec.deg[0]))\n",
    "\n",
    "\n",
    "job = Gaia.launch_job_async(query)  \n",
    "r = job.get_results()\n",
    "\n"
   ]
  },
  {
   "cell_type": "code",
   "execution_count": 4,
   "id": "a079f2a1",
   "metadata": {},
   "outputs": [
    {
     "data": {
      "image/png": "[encoded data removed]",
      "text/plain": [
       "<Figure size 432x288 with 1 Axes>"
      ]
     },
     "metadata": {
      "needs_background": "light"
     },
     "output_type": "display_data"
    }
   ],
   "source": [
    "ralist = r['ra'].tolist()\n",
    "declist = r['dec'].tolist()\n",
    "\n",
    "plt.scatter(ralist,declist,marker='+')\n",
    "plt.show()"
   ]
  },
  {
   "cell_type": "code",
   "execution_count": null,
   "id": "72d487ae",
   "metadata": {},
   "outputs": [],
   "source": []
  },
  {
   "cell_type": "code",
   "execution_count": 5,
   "id": "2dc0de3f",
   "metadata": {},
   "outputs": [
    {
     "name": "stdout",
     "output_type": "stream",
     "text": [
      "        ra                dec                 pmra               pmdec        \n",
      "       deg                deg               mas / yr            mas / yr      \n",
      "------------------ ------------------ ------------------- --------------------\n",
      " 132.9743416822167 11.852555207267613                  --                   --\n",
      "132.85848991452696 11.649710919162853  -10.23892728408197   -3.325563736415543\n",
      "132.67174700322008  11.93769599706798 -10.979986011763685   -2.919521351371557\n",
      " 132.9058083722677 11.834794012600288 -11.297739293957925  -3.1202253359037333\n",
      "133.01513552196468  11.59463701978955 -10.890812086050827  -3.2212897643821363\n",
      "132.88648631241915 11.706331508043872                  --                   --\n",
      "               ...                ...                 ...                  ...\n",
      "132.78801208502654  11.64635800939035 -1.3115528015536033 -0.49890965505615315\n",
      " 132.7819971649845 11.752247774537867                  --                   --\n",
      "133.01477662817524 11.689962317917043  -10.81287407165906  -2.6717989810460008\n",
      "133.00156336021362 11.803782141877237   1.306486225196274  -1.4436313450972622\n",
      "132.85040703899517 12.025164418496702 -11.612499669155017   -3.232835233863703\n",
      "132.59886095277287  11.66778927250933  -4.598065899016232  -3.8707849991932597\n",
      "133.06474731628896 11.665751606894847 -11.038020423829805   -2.899143299681704\n",
      "Length = 1000 rows\n"
     ]
    }
   ],
   "source": [
    "r.pprint()"
   ]
  },
  {
   "cell_type": "code",
   "execution_count": 6,
   "id": "7a8b9357",
   "metadata": {},
   "outputs": [],
   "source": [
    "#print(r[0])"
   ]
  },
  {
   "cell_type": "code",
   "execution_count": 13,
   "id": "1b6810a3",
   "metadata": {},
   "outputs": [
    {
     "name": "stdout",
     "output_type": "stream",
     "text": [
      "Saving results to: 1625311627012O-result.csv\n"
     ]
    }
   ],
   "source": [
    "coord = SkyCoord(ra=raValue, dec=decValue, unit=(u.degree, u.degree), frame='icrs')\n",
    "\n",
    "query = \"\"\"SELECT TOP 1000 ra,dec,pmra,pmdec FROM gaiaedr3.gaia_source \n",
    "           WHERE CONTAINS(POINT('ICRS',gaiaedr3.gaia_source.ra,gaiaedr3.gaia_source.dec), \n",
    "           BOX('ICRS',{ra},{dec},0.1,0.1))=1 ORDER BY random_index\"\"\".format(ra=str(coord.ra.deg[0]),dec=str(coord.dec.deg[0]))\n",
    "\n",
    "\n",
    "job = Gaia.launch_job_async(query,dump_to_file = True, output_format = 'csv')  \n",
    "r = job.get_results()\n",
    "\n"
   ]
  },
  {
   "cell_type": "code",
   "execution_count": 14,
   "id": "3d8ca7c1",
   "metadata": {},
   "outputs": [
    {
     "data": {
      "image/png": "[encoded data removed]",
      "text/plain": [
       "<Figure size 432x288 with 1 Axes>"
      ]
     },
     "metadata": {
      "needs_background": "light"
     },
     "output_type": "display_data"
    }
   ],
   "source": [
    "ralist = r['ra'].tolist()\n",
    "declist = r['dec'].tolist()\n",
    "\n",
    "plt.scatter(ralist,declist,marker='+')\n",
    "plt.show()"
   ]
  },
  {
   "cell_type": "code",
   "execution_count": 15,
   "id": "3daf5f92",
   "metadata": {},
   "outputs": [
    {
     "name": "stdout",
     "output_type": "stream",
     "text": [
      "<Table length=205>\n",
      " name  dtype     class     n_bad\n",
      "----- ------- ------------ -----\n",
      "   ra float64       Column     0\n",
      "  dec float64       Column     0\n",
      " pmra float64 MaskedColumn    15\n",
      "pmdec float64 MaskedColumn    15\n",
      "Jobid: 1625311627012O\n",
      "Phase: COMPLETED\n",
      "Owner: None\n",
      "Output file: 1625311627012O-result.csv\n",
      "Results: None\n"
     ]
    }
   ],
   "source": [
    "print(job)"
   ]
  },
  {
   "cell_type": "code",
   "execution_count": 20,
   "id": "c22e2ddf",
   "metadata": {},
   "outputs": [],
   "source": [
    "a = job"
   ]
  },
  {
   "cell_type": "code",
   "execution_count": 26,
   "id": "12ec7a7b",
   "metadata": {},
   "outputs": [],
   "source": [
    "a=job.__dict__"
   ]
  },
  {
   "cell_type": "code",
   "execution_count": 27,
   "id": "6fe100e9",
   "metadata": {},
   "outputs": [
    {
     "data": {
      "text/plain": [
       "'1625311627012O-result.csv'"
      ]
     },
     "execution_count": 27,
     "metadata": {},
     "output_type": "execute_result"
    }
   ],
   "source": [
    "a[\"outputFile\"]"
   ]
  }
 ],
 "metadata": {
  "kernelspec": {
   "display_name": "Python 3 (ipykernel)",
   "language": "python",
   "name": "python3"
  },
  "language_info": {
   "codemirror_mode": {
    "name": "ipython",
    "version": 3
   },
   "file_extension": ".py",
   "mimetype": "text/x-python",
   "name": "python",
   "nbconvert_exporter": "python",
   "pygments_lexer": "ipython3",
   "version": "3.7.5"
  }
 },
 "nbformat": 4,
 "nbformat_minor": 5
}
