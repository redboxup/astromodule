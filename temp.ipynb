{
 "cells": [
  {
   "cell_type": "code",
   "execution_count": 66,
   "id": "9713dfee",
   "metadata": {},
   "outputs": [
    {
     "name": "stderr",
     "output_type": "stream",
     "text": [
      "INFO:astroquery:Query finished.\n"
     ]
    },
    {
     "name": "stdout",
     "output_type": "stream",
     "text": [
      "INFO: Query finished. [astroquery.utils.tap.core]\n"
     ]
    },
    {
     "data": {
      "image/png": "[encoded data removed]",
      "text/plain": [
       "<Figure size 432x288 with 1 Axes>"
      ]
     },
     "metadata": {
      "needs_background": "light"
     },
     "output_type": "display_data"
    }
   ],
   "source": [
    "from astroquery.simbad import Simbad\n",
    "import astropy.units as u\n",
    "from astropy.coordinates import SkyCoord\n",
    "from astroquery.gaia import Gaia\n",
    "\n",
    "result_table = Simbad.query_object(\"Gaia DR2 4687500098271761792\")\n",
    "#raValue = result_table['RA']\n",
    "#decValue = result_table['DEC']\n",
    "raValue = [132.825]\n",
    "decValue = [11.8]\n",
    "\n",
    "\n",
    "coord = SkyCoord(ra=raValue, dec=decValue, unit=(u.degree, u.degree), frame='icrs')\n",
    "\n",
    "query = \"\"\"SELECT TOP 1000 * FROM gaiadr2.gaia_source \n",
    "           WHERE CONTAINS(POINT('ICRS',gaiadr2.gaia_source.ra,gaiadr2.gaia_source.dec), \n",
    "           CIRCLE('ICRS',{ra},{dec},0.2777777777777778))=1 ORDER BY random_index\"\"\".format(ra=str(coord.ra.deg[0]),dec=str(coord.dec.deg[0]))\n",
    "\n",
    "\n",
    "job = Gaia.launch_job_async(query)  \n",
    "r = job.get_results()\n",
    "\n",
    "ralist = r['ra'].tolist()\n",
    "declist = r['dec'].tolist()\n",
    "\n",
    "import matplotlib.pyplot as plt\n",
    "plt.scatter(ralist,declist,marker='+')\n",
    "plt.show()"
   ]
  },
  {
   "cell_type": "code",
   "execution_count": 48,
   "id": "f5e6becc",
   "metadata": {},
   "outputs": [
    {
     "data": {
      "text/html": [
       "&lt;MaskedColumn name=&apos;RA&apos; dtype=&apos;str13&apos; unit=&apos;&quot;h:m:s&quot;&apos; description=&apos;Right ascension&apos; length=1&gt;\n",
       "<table>\n",
       "<tr><td>01 04 40.0128</td></tr>\n",
       "</table>"
      ],
      "text/plain": [
       "<MaskedColumn name='RA' dtype='str13' unit='\"h:m:s\"' description='Right ascension' length=1>\n",
       "01 04 40.0128"
      ]
     },
     "execution_count": 48,
     "metadata": {},
     "output_type": "execute_result"
    }
   ],
   "source": [
    "result_table['RA']"
   ]
  },
  {
   "cell_type": "code",
   "execution_count": 53,
   "id": "95e1ed0a",
   "metadata": {},
   "outputs": [
    {
     "data": {
      "text/html": [
       "&lt;MaskedColumn name=&apos;DEC&apos; dtype=&apos;str13&apos; unit=&apos;&quot;d:m:s&quot;&apos; description=&apos;Declination&apos; length=1&gt;\n",
       "<table>\n",
       "<tr><td>-72 19 10.819</td></tr>\n",
       "</table>"
      ],
      "text/plain": [
       "<MaskedColumn name='DEC' dtype='str13' unit='\"d:m:s\"' description='Declination' length=1>\n",
       "-72 19 10.819"
      ]
     },
     "execution_count": 53,
     "metadata": {},
     "output_type": "execute_result"
    }
   ],
   "source": [
    "result_table['DEC']"
   ]
  },
  {
   "cell_type": "code",
   "execution_count": 56,
   "id": "692e54e4",
   "metadata": {},
   "outputs": [
    {
     "data": {
      "text/plain": [
       "1.0777813333333333"
      ]
     },
     "execution_count": 56,
     "metadata": {},
     "output_type": "execute_result"
    }
   ],
   "source": [
    "coord.ra.deg[0]"
   ]
  },
  {
   "cell_type": "code",
   "execution_count": 57,
   "id": "bcc95a30",
   "metadata": {},
   "outputs": [
    {
     "data": {
      "text/plain": [
       "-72.31967194444444"
      ]
     },
     "execution_count": 57,
     "metadata": {},
     "output_type": "execute_result"
    }
   ],
   "source": [
    "coord.dec.deg[0]"
   ]
  },
  {
   "cell_type": "code",
   "execution_count": 58,
   "id": "17c864dc",
   "metadata": {},
   "outputs": [
    {
     "data": {
      "text/plain": [
       "<SkyCoord (ICRS): (ra, dec) in deg\n",
       "    [(1.07778133, -72.31967194)]>"
      ]
     },
     "execution_count": 58,
     "metadata": {},
     "output_type": "execute_result"
    }
   ],
   "source": [
    "coord"
   ]
  },
  {
   "cell_type": "code",
   "execution_count": 59,
   "id": "a1158dcd",
   "metadata": {},
   "outputs": [
    {
     "data": {
      "text/latex": [
       "[$1^\\circ04{}^\\prime40.0128{}^{\\prime\\prime}$]"
      ],
      "text/plain": [
       "<Longitude [1.07778133] deg>"
      ]
     },
     "execution_count": 59,
     "metadata": {},
     "output_type": "execute_result"
    }
   ],
   "source": [
    "coord.ra"
   ]
  },
  {
   "cell_type": "code",
   "execution_count": 60,
   "id": "2bbea20e",
   "metadata": {},
   "outputs": [
    {
     "data": {
      "text/plain": [
       "array([1.07778133])"
      ]
     },
     "execution_count": 60,
     "metadata": {},
     "output_type": "execute_result"
    }
   ],
   "source": [
    "coord.ra.deg"
   ]
  },
  {
   "cell_type": "code",
   "execution_count": 61,
   "id": "5d82b05f",
   "metadata": {},
   "outputs": [],
   "source": [
    "coord2 = SkyCoord(ra=132.825, dec=11.8, unit=(u.degree, u.degree), frame='icrs')"
   ]
  },
  {
   "cell_type": "code",
   "execution_count": 62,
   "id": "cbe22a2e",
   "metadata": {},
   "outputs": [
    {
     "data": {
      "text/plain": [
       "<SkyCoord (ICRS): (ra, dec) in deg\n",
       "    (132.825, 11.8)>"
      ]
     },
     "execution_count": 62,
     "metadata": {},
     "output_type": "execute_result"
    }
   ],
   "source": [
    "coord2"
   ]
  },
  {
   "cell_type": "code",
   "execution_count": 63,
   "id": "2625307e",
   "metadata": {},
   "outputs": [
    {
     "data": {
      "text/plain": [
       "<SkyCoord (ICRS): (ra, dec) in deg\n",
       "    [(1.07778133, -72.31967194)]>"
      ]
     },
     "execution_count": 63,
     "metadata": {},
     "output_type": "execute_result"
    }
   ],
   "source": [
    "coord"
   ]
  },
  {
   "cell_type": "code",
   "execution_count": 64,
   "id": "696b5ff8",
   "metadata": {},
   "outputs": [],
   "source": [
    "coord2 = SkyCoord(ra=[132.825], dec=[11.8], unit=(u.degree, u.degree), frame='icrs')"
   ]
  },
  {
   "cell_type": "code",
   "execution_count": 65,
   "id": "37d2e932",
   "metadata": {},
   "outputs": [
    {
     "data": {
      "text/plain": [
       "<SkyCoord (ICRS): (ra, dec) in deg\n",
       "    [(132.825, 11.8)]>"
      ]
     },
     "execution_count": 65,
     "metadata": {},
     "output_type": "execute_result"
    }
   ],
   "source": [
    "coord2"
   ]
  },
  {
   "cell_type": "code",
   "execution_count": null,
   "id": "2af6686a",
   "metadata": {},
   "outputs": [],
   "source": []
  },
  {
   "cell_type": "code",
   "execution_count": null,
   "id": "d2c1f126",
   "metadata": {},
   "outputs": [],
   "source": []
  }
 ],
 "metadata": {
  "kernelspec": {
   "display_name": "Python 3 (ipykernel)",
   "language": "python",
   "name": "python3"
  },
  "language_info": {
   "codemirror_mode": {
    "name": "ipython",
    "version": 3
   },
   "file_extension": ".py",
   "mimetype": "text/x-python",
   "name": "python",
   "nbconvert_exporter": "python",
   "pygments_lexer": "ipython3",
   "version": "3.7.5"
  }
 },
 "nbformat": 4,
 "nbformat_minor": 5
}
